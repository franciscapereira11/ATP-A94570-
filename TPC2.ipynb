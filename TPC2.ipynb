{
 "cells": [
  {
   "cell_type": "markdown",
   "metadata": {},
   "source": [
    "# Manifesto"
   ]
  },
  {
   "cell_type": "markdown",
   "metadata": {},
   "source": [
    "---"
   ]
  },
  {
   "cell_type": "markdown",
   "metadata": {},
   "source": [
    "+ **KEY NAME**: TPC2\n",
    "+ **TITLE**: \"Jogo de adivinhar o número\"\n",
    "+ **SUBTITLE**: Manifesto inserido na UC Algoritmos e Técnicas de Programação\n",
    "+ **BEGINING DATA**: Outubro 2021\n",
    "+ **ENDING DATA**: Outubro 2021\n",
    "+ **SUPERVISOR**: José Carlos Ramalho\n",
    "+ **AUTHOR**: Francisca Pereira, A94570\n"
   ]
  },
  {
   "cell_type": "markdown",
   "metadata": {},
   "source": [
    "### **Abstract**: \n",
    "    \n",
    "    Este trabalho foi realizado com o âmbito de encontrar um número específico entre 1 e 100, em linguagem python, reduzindo o número máximo de tentativas.\n"
   ]
  },
  {
   "cell_type": "markdown",
   "metadata": {},
   "source": [
    " ### **Code**:"
   ]
  },
  {
   "cell_type": "code",
   "execution_count": null,
   "metadata": {},
   "outputs": [],
   "source": [
    "# -*- coding: utf-8 -*-\n",
    "\"\"\"\n",
    "@author: a94570\n",
    "\"\"\"\n",
    "#TPC2\n",
    "\n",
    "def numberguessing():\n",
    "    print(\"Welcome! Vou adivinhar o número em que estás a pensar no menor número de tentativas possíveis!\")\n",
    "    n=50\n",
    "    nn=int(n//2)\n",
    "    a=input(\"O seu número é {}?\".format(n))\n",
    "    while a==\"Não\" or a==\"não\":\n",
    "        b=input(\"É maior(+/>) ou menor(-/<)?\")\n",
    "        if b== \"maior\":\n",
    "            n=n+nn\n",
    "            if nn>1:\n",
    "                nn=(nn//2)\n",
    "                a=input(\"O seu número é {}?\".format(n))\n",
    "            if nn<=1:\n",
    "                nn=1\n",
    "                a=input(\"O seu número é {}?\".format(n))\n",
    "        if b==\"menor\":\n",
    "            n=n-nn\n",
    "            if nn>1:\n",
    "                nn=(nn//2)\n",
    "                a=input(\"O seu número é {}?\".format(n))\n",
    "            if nn<=1:\n",
    "                nn=1\n",
    "                a=input(\"O seu número é {}?\".format(n))\n",
    "    if a==\"Sim\" or a==\"sim\" or a==\"S\" or a==\"s\": \n",
    "        print(\"O númrero que pensaste é\", n,\"!\")\n",
    "\n",
    "numberguessing()\n",
    "    \n",
    "    \n",
    "    "
   ]
  }
 ],
 "metadata": {
  "kernelspec": {
   "display_name": "Python 3",
   "language": "python",
   "name": "python3"
  },
  "language_info": {
   "codemirror_mode": {
    "name": "ipython",
    "version": 3
   },
   "file_extension": ".py",
   "mimetype": "text/x-python",
   "name": "python",
   "nbconvert_exporter": "python",
   "pygments_lexer": "ipython3",
   "version": "3.8.3"
  }
 },
 "nbformat": 4,
 "nbformat_minor": 4
}
