{
 "cells": [
  {
   "cell_type": "markdown",
   "metadata": {},
   "source": [
    "# Manifesto"
   ]
  },
  {
   "cell_type": "markdown",
   "metadata": {},
   "source": [
    "---"
   ]
  },
  {
   "cell_type": "markdown",
   "metadata": {},
   "source": [
    "+ **KEY NAME**: TPC3\n",
    "+ **TITLE**: \"Bubblesort\"\n",
    "+ **SUBTITLE**: Manifesto inserido na UC Algoritmos e Técnicas de Programação\n",
    "+ **BEGINING DATA**: Outubro 2021\n",
    "+ **ENDING DATA**: Outubro 2021\n",
    "+ **SUPERVISOR**: José Carlos Ramalho\n",
    "+ **AUTHOR**: Francisca Pereira, A94570\n"
   ]
  },
  {
   "cell_type": "markdown",
   "metadata": {},
   "source": [
    "### **Abstract**: \n",
    "    \n",
    "    Este trabalho, apresentado em linguagem python, foca-se na resolução do TPC3, mais concretamente criar a função BublleSort, com a ajuda das funções já feitas na aula. A partir da função BubbleSort, percorremos a lista, o número de vezes necessárias comparando cada valor com o próximo, ordenando-os. O processo ocorre até ao final da lista.   \n"
   ]
  },
  {
   "cell_type": "markdown",
   "metadata": {},
   "source": [
    " ### **Code**:"
   ]
  },
  {
   "cell_type": "code",
   "execution_count": null,
   "metadata": {},
   "outputs": [],
   "source": [
    "# -*- coding: utf-8 -*-\n",
    "\"\"\"\n",
    "@author: a94570\n",
    "\"\"\"\n",
    "#TPC3\n",
    "\n",
    "import random\n",
    "\n",
    "def menu():\n",
    "    print(\"Gestão de listas de inteiros\")\n",
    "    print(\"(1) Introduza a lista à mão;\")\n",
    "    print('(2) Gerar lista com valores aleatórios;')\n",
    "    print('(3) Maior elemento da lista;')\n",
    "    print('(4) Bubble Sort da lista;')\n",
    "    print(\"...\")\n",
    "    print(\"(0) Sair\")\n",
    "    \n",
    "def criar_manual():\n",
    "    a=int(input(\"Intoduza o nº de elementos:\"))\n",
    "    b=0\n",
    "    l=[]\n",
    "    while a!=b:\n",
    "       b=b+1\n",
    "       c=int(input(\"Introduza o elemento {}:\".format(b)))\n",
    "       l.append(c)\n",
    "    return l\n",
    "\n",
    "def criarListaA():\n",
    "    a=int(input(\"Intoduza o nº de elementos:\"))\n",
    "    b=0\n",
    "    l=[]\n",
    "    while a!=b:\n",
    "       b=b+1\n",
    "       c=random.randint(1, 100)\n",
    "       l.append(c)\n",
    "    return l\n",
    "\n",
    "def maiorElemento(l):\n",
    "    maior=l[0]\n",
    "    for i in range(l):\n",
    "       if l[i]>maior:   \n",
    "           maior=l[i]\n",
    "    return maior\n",
    "\n",
    "def BubbleSort():\n",
    "    lista=[]\n",
    "    l=int(input(\"Quantos valores quer meter na lista?\"))\n",
    "    for i in range(l):\n",
    "        a=int(input(\"Introduza um elemento a adicionar:\"))\n",
    "        lista.append(a)\n",
    "    print(lista)\n",
    "    n=1\n",
    "    while n!=0:    \n",
    "        n=0\n",
    "        for i in range(len(lista)-1):\n",
    "            if lista[i]>lista[i+1]:\n",
    "                var=lista[i]\n",
    "                lista[i]= lista[i+1]\n",
    "                lista[i+1]=var\n",
    "                n=n+1\n",
    "    return lista\n",
    "    \n",
    "menu()\n",
    "a=int(input(\"Qual a sua opção?\"))\n",
    "while a!=0:\n",
    "    if a == 1:\n",
    "        lis=criar_manual()\n",
    "        print(lis)\n",
    "        menu()\n",
    "        a=int(input(\"Qual a sua opção?\"))\n",
    "    elif a==2:\n",
    "        lis=criarListaA()\n",
    "        print(lis)\n",
    "        menu()\n",
    "        a=int(input(\"Qual a sua opção?\"))\n",
    "    elif a==3:\n",
    "        print(maiorElemento())\n",
    "    elif a==4:\n",
    "        print(BubbleSort())\n",
    "    elif a==0:\n",
    "        print(\"Adeus\")\n",
    "    else:\n",
    "        print(\"Erro\")\n",
    "    \n",
    "    \n",
    "    "
   ]
  }
 ],
 "metadata": {
  "kernelspec": {
   "display_name": "Python 3",
   "language": "python",
   "name": "python3"
  },
  "language_info": {
   "codemirror_mode": {
    "name": "ipython",
    "version": 3
   },
   "file_extension": ".py",
   "mimetype": "text/x-python",
   "name": "python",
   "nbconvert_exporter": "python",
   "pygments_lexer": "ipython3",
   "version": "3.8.3"
  }
 },
 "nbformat": 4,
 "nbformat_minor": 4
}
